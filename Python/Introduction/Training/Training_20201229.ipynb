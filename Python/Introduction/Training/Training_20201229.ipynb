{
 "cells": [
  {
   "cell_type": "code",
   "execution_count": null,
   "metadata": {},
   "outputs": [],
   "source": []
  },
  {
   "cell_type": "markdown",
   "metadata": {},
   "source": [
    "## Diferencia entre Lista, Diccionario y Tupla"
   ]
  },
  {
   "cell_type": "markdown",
   "metadata": {},
   "source": [
    "### Ejemplos con Listas\n",
    "---------------------------"
   ]
  },
  {
   "cell_type": "code",
   "execution_count": 1,
   "metadata": {},
   "outputs": [
    {
     "data": {
      "text/plain": [
       "list"
      ]
     },
     "execution_count": 1,
     "metadata": {},
     "output_type": "execute_result"
    }
   ],
   "source": [
    "lista=[1,2,3,4]\n",
    "type(lista)"
   ]
  },
  {
   "cell_type": "markdown",
   "metadata": {},
   "source": [
    "### Ejemplos con Diccionarios\n",
    "---------------------------"
   ]
  },
  {
   "cell_type": "code",
   "execution_count": 1,
   "metadata": {},
   "outputs": [
    {
     "data": {
      "text/plain": [
       "dict"
      ]
     },
     "execution_count": 1,
     "metadata": {},
     "output_type": "execute_result"
    }
   ],
   "source": [
    "diccionario = {\n",
    "    'clave1':1,\n",
    "    'clave2':2,\n",
    "    'clave3':3,\n",
    "    'clave4':4\n",
    "}\n",
    "type(diccionario)"
   ]
  },
  {
   "cell_type": "code",
   "execution_count": null,
   "metadata": {},
   "outputs": [],
   "source": [
    "#list(product.keys()) Para obtener las claves, hay que meterlo en la lista\n",
    "#for i in product.keys():\n",
    "#  print(i)\n",
    "#Si queremos meter una nueva clave-valor se hace con update product.update({'hola':\"\"})\n",
    "#También se puede hacer así product['Hola'] = 'Guapi'"
   ]
  },
  {
   "cell_type": "code",
   "execution_count": 2,
   "metadata": {},
   "outputs": [
    {
     "name": "stdout",
     "output_type": "stream",
     "text": [
      "clave1\n",
      "clave2\n",
      "clave3\n",
      "clave4\n"
     ]
    }
   ],
   "source": [
    "#Recorrer todas las claves\n",
    "for i in diccionario.keys():\n",
    "    print(i)"
   ]
  },
  {
   "cell_type": "code",
   "execution_count": 3,
   "metadata": {},
   "outputs": [
    {
     "data": {
      "text/plain": [
       "'clave1'"
      ]
     },
     "execution_count": 3,
     "metadata": {},
     "output_type": "execute_result"
    }
   ],
   "source": [
    "#También se pueden recorrer a traveś de una lista pero hay que pasarle una lista porque el elemento no es iterable\n",
    "#De hecho lo que devuelve keys es un objeto iterator y por eso hay que encapsularlo en una lista\n",
    "l = list(diccionario.keys())\n",
    "l[0]"
   ]
  },
  {
   "cell_type": "code",
   "execution_count": 8,
   "metadata": {},
   "outputs": [
    {
     "name": "stdout",
     "output_type": "stream",
     "text": [
      "clave1\n",
      "clave2\n",
      "clave3\n",
      "clave4\n",
      "clave5\n",
      "clave6\n"
     ]
    }
   ],
   "source": [
    "#Como es un iterador podemos usar un bucle for de la siguiente manera\n",
    "for i in diccionario.keys():\n",
    "    print(i)"
   ]
  },
  {
   "cell_type": "code",
   "execution_count": 9,
   "metadata": {},
   "outputs": [
    {
     "name": "stdout",
     "output_type": "stream",
     "text": [
      "clave1\n",
      "clave2\n",
      "clave3\n",
      "clave4\n",
      "clave5\n",
      "clave6\n"
     ]
    }
   ],
   "source": [
    "#No es necesario llamar a la función keys porque el bucle for 'fuerza' a convertir el objeto en iterable\n",
    "for i in diccionario:\n",
    "    print(i)"
   ]
  },
  {
   "cell_type": "code",
   "execution_count": 11,
   "metadata": {},
   "outputs": [
    {
     "data": {
      "text/plain": [
       "['clave1', 'clave2', 'clave3', 'clave4', 'clave5', 'clave6']"
      ]
     },
     "execution_count": 11,
     "metadata": {},
     "output_type": "execute_result"
    }
   ],
   "source": [
    "#Ojo con esto, esta función ordena cualquier objeto iterable\n",
    "sorted(diccionario)"
   ]
  },
  {
   "cell_type": "code",
   "execution_count": 4,
   "metadata": {},
   "outputs": [
    {
     "data": {
      "text/plain": [
       "{'clave1': 1, 'clave2': 2, 'clave3': 3, 'clave4': 4, 'clave5': 5}"
      ]
     },
     "execution_count": 4,
     "metadata": {},
     "output_type": "execute_result"
    }
   ],
   "source": [
    "#Si queremos meter una nueva clave-valor se hace con update product.update({'clave5':5})\n",
    "diccionario.update({'clave5':5})\n",
    "diccionario"
   ]
  },
  {
   "cell_type": "code",
   "execution_count": 5,
   "metadata": {},
   "outputs": [
    {
     "data": {
      "text/plain": [
       "{'clave1': 1, 'clave2': 2, 'clave3': 3, 'clave4': 4, 'clave5': 5, 'clave6': 6}"
      ]
     },
     "execution_count": 5,
     "metadata": {},
     "output_type": "execute_result"
    }
   ],
   "source": [
    "#También se puede hacer así diccionario['clave6'] = 6\n",
    "diccionario['clave6'] = 6\n",
    "diccionario"
   ]
  },
  {
   "cell_type": "code",
   "execution_count": null,
   "metadata": {},
   "outputs": [],
   "source": []
  },
  {
   "cell_type": "code",
   "execution_count": null,
   "metadata": {},
   "outputs": [],
   "source": []
  },
  {
   "cell_type": "code",
   "execution_count": null,
   "metadata": {},
   "outputs": [],
   "source": []
  },
  {
   "cell_type": "code",
   "execution_count": null,
   "metadata": {},
   "outputs": [],
   "source": []
  },
  {
   "cell_type": "code",
   "execution_count": 162,
   "metadata": {},
   "outputs": [
    {
     "data": {
      "text/plain": [
       "set"
      ]
     },
     "execution_count": 162,
     "metadata": {},
     "output_type": "execute_result"
    }
   ],
   "source": [
    "#conjuntos también van con llaves\n",
    "edades={15,20,45,39}\n",
    "type(edades)"
   ]
  },
  {
   "cell_type": "code",
   "execution_count": 3,
   "metadata": {},
   "outputs": [
    {
     "data": {
      "text/plain": [
       "tuple"
      ]
     },
     "execution_count": 3,
     "metadata": {},
     "output_type": "execute_result"
    }
   ],
   "source": [
    "tupla=(1,2,3)\n",
    "type(tupla)"
   ]
  },
  {
   "cell_type": "code",
   "execution_count": 4,
   "metadata": {},
   "outputs": [
    {
     "data": {
      "text/plain": [
       "tuple"
      ]
     },
     "execution_count": 4,
     "metadata": {},
     "output_type": "execute_result"
    }
   ],
   "source": [
    "#Tupla de un solo elemento\n",
    "tupla=(1,)\n",
    "type(tupla)"
   ]
  },
  {
   "cell_type": "code",
   "execution_count": 7,
   "metadata": {},
   "outputs": [
    {
     "name": "stdout",
     "output_type": "stream",
     "text": [
      "Hola y Adios\n"
     ]
    }
   ],
   "source": [
    "#Operador de formato\n",
    "texto=\"Hola\"\n",
    "texto2=\"Adios\"\n",
    "print(\"%s y %s\"%(texto,texto2))"
   ]
  },
  {
   "cell_type": "code",
   "execution_count": 9,
   "metadata": {},
   "outputs": [
    {
     "name": "stdout",
     "output_type": "stream",
     "text": [
      "El id de a es: 140241419293704  y el ide de b es: 140241419293704\n"
     ]
    }
   ],
   "source": [
    "#Ojo se pasa referencias a los objetos\n",
    "a=[1,2,3,4]\n",
    "b=a\n",
    "print(\"El id de a es:\",id(a),\" y el ide de b es:\",id(b))"
   ]
  },
  {
   "cell_type": "code",
   "execution_count": 10,
   "metadata": {},
   "outputs": [
    {
     "name": "stdout",
     "output_type": "stream",
     "text": [
      "El id de a es: 140241419293704  y el ide de c es: 140241755975368\n"
     ]
    }
   ],
   "source": [
    "#Si queremos hacer una copia usamos .copy\n",
    "c=a.copy()\n",
    "print(\"El id de a es:\",id(a),\" y el ide de c es:\",id(c))"
   ]
  },
  {
   "cell_type": "code",
   "execution_count": 15,
   "metadata": {},
   "outputs": [
    {
     "data": {
      "text/plain": [
       "120"
      ]
     },
     "execution_count": 15,
     "metadata": {},
     "output_type": "execute_result"
    }
   ],
   "source": [
    "#Factorial recursivo\n",
    "def factorial(n=10):\n",
    "    if n==0:\n",
    "        return 1\n",
    "    else:\n",
    "        return factorial(n-1)*n\n",
    "\n",
    "#Si no se pasa ningún valor considera la función por defecto con valor 10\n",
    "factorial(5)\n",
    "\n",
    "    "
   ]
  },
  {
   "cell_type": "code",
   "execution_count": 17,
   "metadata": {},
   "outputs": [
    {
     "data": {
      "text/plain": [
       "tuple"
      ]
     },
     "execution_count": 17,
     "metadata": {},
     "output_type": "execute_result"
    }
   ],
   "source": [
    "def f():\n",
    "    a=5\n",
    "    b=6\n",
    "    c=7\n",
    "    return a,b,c\n",
    "type(f())\n",
    "#Si devolvemos varios valores, siempre devuelve una Tupla. Ojito con esto"
   ]
  },
  {
   "cell_type": "code",
   "execution_count": 19,
   "metadata": {},
   "outputs": [
    {
     "data": {
      "text/plain": [
       "int"
      ]
     },
     "execution_count": 19,
     "metadata": {},
     "output_type": "execute_result"
    }
   ],
   "source": [
    "def f():\n",
    "    a=5\n",
    "    b=6\n",
    "    c=7\n",
    "    return a,b,c\n",
    "type(f()[0])\n",
    "#Pero podemos pedirle que nos devuelva solo uno de los objetos de la Tupla con []"
   ]
  },
  {
   "cell_type": "code",
   "execution_count": 26,
   "metadata": {},
   "outputs": [
    {
     "data": {
      "text/plain": [
       "100"
      ]
     },
     "execution_count": 26,
     "metadata": {},
     "output_type": "execute_result"
    }
   ],
   "source": [
    "#Quick Exercises 1.1.a\n",
    "\n",
    "def max_number(a=0,b=0,c=0):\n",
    "    if a > b:\n",
    "        if b > c:\n",
    "            return a\n",
    "        elif a > c:\n",
    "            return a\n",
    "        else:\n",
    "            return c\n",
    "    elif b > c:\n",
    "        if b > a:\n",
    "            return b\n",
    "        elif c > a:\n",
    "            return b\n",
    "        else:\n",
    "            return c\n",
    "    else:\n",
    "        return c\n",
    "\n",
    "max_number(8,90,100)"
   ]
  },
  {
   "cell_type": "code",
   "execution_count": 29,
   "metadata": {},
   "outputs": [
    {
     "data": {
      "text/plain": [
       "900"
      ]
     },
     "execution_count": 29,
     "metadata": {},
     "output_type": "execute_result"
    }
   ],
   "source": [
    "#Quick Exercises 1.1.b\n",
    "\n",
    "def max_number(a=0,b=0,c=0):\n",
    "    maximo=a\n",
    "    if b > maximo:\n",
    "        maximo=b\n",
    "    if c > maximo:\n",
    "        maximo=c\n",
    "    return maximo\n",
    "\n",
    "max_number(800,900,100)"
   ]
  },
  {
   "cell_type": "code",
   "execution_count": 35,
   "metadata": {},
   "outputs": [
    {
     "name": "stdout",
     "output_type": "stream",
     "text": [
      "Jorge will reach 100 in 2078\n"
     ]
    }
   ],
   "source": [
    "#Quick Exercises 1.2\n",
    "\n",
    "def centario(nombre,nacimiento):\n",
    "    if not isinstance(nacimiento,int):\n",
    "        nacimiento=int(nacimiento)\n",
    "    print(\"%s will reach 100 in %d\"%(nombre,nacimiento+100))\n",
    "    return    \n",
    "\n",
    "centario(\"Jorge\",\"1978\")"
   ]
  },
  {
   "cell_type": "code",
   "execution_count": 38,
   "metadata": {},
   "outputs": [
    {
     "data": {
      "text/plain": [
       "7"
      ]
     },
     "execution_count": 38,
     "metadata": {},
     "output_type": "execute_result"
    }
   ],
   "source": [
    "a=\"just another string\"\n",
    "a.find(\"o\")\n",
    "a.index(\"o\")"
   ]
  },
  {
   "cell_type": "code",
   "execution_count": 40,
   "metadata": {},
   "outputs": [
    {
     "data": {
      "text/plain": [
       "3"
      ]
     },
     "execution_count": 40,
     "metadata": {},
     "output_type": "execute_result"
    }
   ],
   "source": [
    "a.count(\"t\")"
   ]
  },
  {
   "cell_type": "code",
   "execution_count": 43,
   "metadata": {},
   "outputs": [
    {
     "name": "stdout",
     "output_type": "stream",
     "text": [
      "['just', 'another', 'string']\n"
     ]
    }
   ],
   "source": [
    "b=a.split(\" \")\n",
    "type(b) #Devuelve una lista\n",
    "print(b)"
   ]
  },
  {
   "cell_type": "code",
   "execution_count": 44,
   "metadata": {},
   "outputs": [
    {
     "name": "stdout",
     "output_type": "stream",
     "text": [
      "just another string\n"
     ]
    }
   ],
   "source": [
    "c=\" \".join(b)\n",
    "print(c)"
   ]
  },
  {
   "cell_type": "code",
   "execution_count": 48,
   "metadata": {},
   "outputs": [
    {
     "data": {
      "text/plain": [
       "'Jorge tiene 42.8 pero eso son 42 años'"
      ]
     },
     "execution_count": 48,
     "metadata": {},
     "output_type": "execute_result"
    }
   ],
   "source": [
    "template=\"%s tiene %.1f pero eso son %d años\"\n",
    "template %(\"Jorge\",42.8,42)"
   ]
  },
  {
   "cell_type": "code",
   "execution_count": 54,
   "metadata": {},
   "outputs": [
    {
     "data": {
      "text/plain": [
       "'gnirts rehtona tsuj'"
      ]
     },
     "execution_count": 54,
     "metadata": {},
     "output_type": "execute_result"
    }
   ],
   "source": [
    "a[::-1]"
   ]
  },
  {
   "cell_type": "code",
   "execution_count": 60,
   "metadata": {},
   "outputs": [
    {
     "data": {
      "text/plain": [
       "87"
      ]
     },
     "execution_count": 60,
     "metadata": {},
     "output_type": "execute_result"
    }
   ],
   "source": [
    "#Quick Exercises 2.1\n",
    "\n",
    "cadena=\"En un lugar de la mancha de cuyo nombre no quiero acordarme\\n vívia un hidalgo caballero\"\n",
    "def wc(cadena,opcion):\n",
    "    if not cadena:\n",
    "        return 0\n",
    "    else:\n",
    "        if opcion==\"w\":\n",
    "            lista=cadena.split(\" \")\n",
    "            return len(lista)\n",
    "        if opcion==\"l\":\n",
    "            linea=cadena.split(\"\\n\")\n",
    "            return len(linea)\n",
    "        if opcion==\"m\":\n",
    "            return len(cadena)\n",
    "\n",
    "wc(cadena,\"m\")"
   ]
  },
  {
   "cell_type": "code",
   "execution_count": 83,
   "metadata": {},
   "outputs": [
    {
     "name": "stdout",
     "output_type": "stream",
     "text": [
      "En un luga de la mancha de cuyo nombre no quiero acordarme\n"
     ]
    }
   ],
   "source": [
    "#Quick Exercises 2.2\n",
    "\n",
    "cadena=\"En un lugar de la mancha de cuyo nombre no quiero acordarme\"\n",
    "def remove(cadena,n):\n",
    "    '''Esta función elimina el elemento n-ésimo'''\n",
    "    if not cadena:\n",
    "        print(\"warning string cannot be empty\")\n",
    "        return\n",
    "    if n > len(cadena):\n",
    "        print(\"warning nth is much bigger than string length\")\n",
    "        return\n",
    "    print(cadena[:n]+cadena[n+1:])\n",
    "    return\n",
    "\n",
    "remove(cadena,10)"
   ]
  },
  {
   "cell_type": "code",
   "execution_count": 73,
   "metadata": {},
   "outputs": [
    {
     "name": "stdout",
     "output_type": "stream",
     "text": [
      "total 12\r\n",
      "-rw-rw-r-- 1 dsc dsc 10414 dic 29 22:30 Practicas_20201229.ipynb\r\n"
     ]
    }
   ],
   "source": [
    "!ls -l"
   ]
  },
  {
   "cell_type": "code",
   "execution_count": 76,
   "metadata": {},
   "outputs": [
    {
     "data": {
      "application/json": {
       "cell": {
        "!": "OSMagics",
        "HTML": "Other",
        "SVG": "Other",
        "bash": "Other",
        "capture": "ExecutionMagics",
        "debug": "ExecutionMagics",
        "file": "Other",
        "html": "DisplayMagics",
        "javascript": "DisplayMagics",
        "js": "DisplayMagics",
        "latex": "DisplayMagics",
        "markdown": "DisplayMagics",
        "perl": "Other",
        "prun": "ExecutionMagics",
        "pypy": "Other",
        "python": "Other",
        "python2": "Other",
        "python3": "Other",
        "ruby": "Other",
        "script": "ScriptMagics",
        "sh": "Other",
        "svg": "DisplayMagics",
        "sx": "OSMagics",
        "system": "OSMagics",
        "time": "ExecutionMagics",
        "timeit": "ExecutionMagics",
        "writefile": "OSMagics"
       },
       "line": {
        "alias": "OSMagics",
        "alias_magic": "BasicMagics",
        "autoawait": "AsyncMagics",
        "autocall": "AutoMagics",
        "automagic": "AutoMagics",
        "autosave": "KernelMagics",
        "bookmark": "OSMagics",
        "cat": "Other",
        "cd": "OSMagics",
        "clear": "KernelMagics",
        "colors": "BasicMagics",
        "config": "ConfigMagics",
        "connect_info": "KernelMagics",
        "cp": "Other",
        "debug": "ExecutionMagics",
        "dhist": "OSMagics",
        "dirs": "OSMagics",
        "doctest_mode": "BasicMagics",
        "ed": "Other",
        "edit": "KernelMagics",
        "env": "OSMagics",
        "gui": "BasicMagics",
        "hist": "Other",
        "history": "HistoryMagics",
        "killbgscripts": "ScriptMagics",
        "ldir": "Other",
        "less": "KernelMagics",
        "lf": "Other",
        "lk": "Other",
        "ll": "Other",
        "load": "CodeMagics",
        "load_ext": "ExtensionMagics",
        "loadpy": "CodeMagics",
        "logoff": "LoggingMagics",
        "logon": "LoggingMagics",
        "logstart": "LoggingMagics",
        "logstate": "LoggingMagics",
        "logstop": "LoggingMagics",
        "ls": "Other",
        "lsmagic": "BasicMagics",
        "lx": "Other",
        "macro": "ExecutionMagics",
        "magic": "BasicMagics",
        "man": "KernelMagics",
        "matplotlib": "PylabMagics",
        "mkdir": "Other",
        "more": "KernelMagics",
        "mv": "Other",
        "notebook": "BasicMagics",
        "page": "BasicMagics",
        "pastebin": "CodeMagics",
        "pdb": "ExecutionMagics",
        "pdef": "NamespaceMagics",
        "pdoc": "NamespaceMagics",
        "pfile": "NamespaceMagics",
        "pinfo": "NamespaceMagics",
        "pinfo2": "NamespaceMagics",
        "pip": "BasicMagics",
        "popd": "OSMagics",
        "pprint": "BasicMagics",
        "precision": "BasicMagics",
        "prun": "ExecutionMagics",
        "psearch": "NamespaceMagics",
        "psource": "NamespaceMagics",
        "pushd": "OSMagics",
        "pwd": "OSMagics",
        "pycat": "OSMagics",
        "pylab": "PylabMagics",
        "qtconsole": "KernelMagics",
        "quickref": "BasicMagics",
        "recall": "HistoryMagics",
        "rehashx": "OSMagics",
        "reload_ext": "ExtensionMagics",
        "rep": "Other",
        "rerun": "HistoryMagics",
        "reset": "NamespaceMagics",
        "reset_selective": "NamespaceMagics",
        "rm": "Other",
        "rmdir": "Other",
        "run": "ExecutionMagics",
        "save": "CodeMagics",
        "sc": "OSMagics",
        "set_env": "OSMagics",
        "store": "StoreMagics",
        "sx": "OSMagics",
        "system": "OSMagics",
        "tb": "ExecutionMagics",
        "time": "ExecutionMagics",
        "timeit": "ExecutionMagics",
        "unalias": "OSMagics",
        "unload_ext": "ExtensionMagics",
        "who": "NamespaceMagics",
        "who_ls": "NamespaceMagics",
        "whos": "NamespaceMagics",
        "xdel": "NamespaceMagics",
        "xmode": "BasicMagics"
       }
      },
      "text/plain": [
       "Available line magics:\n",
       "%alias  %alias_magic  %autoawait  %autocall  %automagic  %autosave  %bookmark  %cat  %cd  %clear  %colors  %config  %connect_info  %cp  %debug  %dhist  %dirs  %doctest_mode  %ed  %edit  %env  %gui  %hist  %history  %killbgscripts  %ldir  %less  %lf  %lk  %ll  %load  %load_ext  %loadpy  %logoff  %logon  %logstart  %logstate  %logstop  %ls  %lsmagic  %lx  %macro  %magic  %man  %matplotlib  %mkdir  %more  %mv  %notebook  %page  %pastebin  %pdb  %pdef  %pdoc  %pfile  %pinfo  %pinfo2  %popd  %pprint  %precision  %prun  %psearch  %psource  %pushd  %pwd  %pycat  %pylab  %qtconsole  %quickref  %recall  %rehashx  %reload_ext  %rep  %rerun  %reset  %reset_selective  %rm  %rmdir  %run  %save  %sc  %set_env  %store  %sx  %system  %tb  %time  %timeit  %unalias  %unload_ext  %who  %who_ls  %whos  %xdel  %xmode\n",
       "\n",
       "Available cell magics:\n",
       "%%!  %%HTML  %%SVG  %%bash  %%capture  %%debug  %%file  %%html  %%javascript  %%js  %%latex  %%markdown  %%perl  %%prun  %%pypy  %%python  %%python2  %%python3  %%ruby  %%script  %%sh  %%svg  %%sx  %%system  %%time  %%timeit  %%writefile\n",
       "\n",
       "Automagic is ON, % prefix IS NOT needed for line magics."
      ]
     },
     "execution_count": 76,
     "metadata": {},
     "output_type": "execute_result"
    }
   ],
   "source": [
    "#Comandos mágicos\n",
    "%lsmagic"
   ]
  },
  {
   "cell_type": "code",
   "execution_count": 82,
   "metadata": {},
   "outputs": [
    {
     "name": "stdout",
     "output_type": "stream",
     "text": [
      "Practicas_20201229.ipynb\n",
      "/home/dsc/Repos/Clases_Master/Python/Introduction\n",
      "01_intro_20201127.ipynb         04_shell_and_magic.ipynb\n",
      "01_intro.ipynb                  \u001b[0m\u001b[01;34mOriginal\u001b[0m/\n",
      "02_flow_control.ipynb           \u001b[01;34mPracticas\u001b[0m/\n",
      "03_functions_and_strings.ipynb  Python_2nd_weekend.ipynb\n"
     ]
    }
   ],
   "source": [
    "%ls\n",
    "%cd ..\n",
    "%ls"
   ]
  },
  {
   "cell_type": "code",
   "execution_count": 92,
   "metadata": {},
   "outputs": [],
   "source": [
    "#Cosas que hemos hecho en el entorno"
   ]
  },
  {
   "cell_type": "code",
   "execution_count": 93,
   "metadata": {},
   "outputs": [
    {
     "name": "stdout",
     "output_type": "stream",
     "text": [
      "a\t b\t c\t cadena\t centario\t diccionario\t f\t factorial\t lista\t \n",
      "max_number\t remove\t template\t texto\t texto2\t tupla\t wc\t \n"
     ]
    }
   ],
   "source": [
    "who"
   ]
  },
  {
   "cell_type": "code",
   "execution_count": 100,
   "metadata": {},
   "outputs": [
    {
     "name": "stdout",
     "output_type": "stream",
     "text": [
      "/home/dsc/Data/opentraveldata\n"
     ]
    }
   ],
   "source": [
    "%cd ~/Data/opentraveldata/"
   ]
  },
  {
   "cell_type": "code",
   "execution_count": 111,
   "metadata": {},
   "outputs": [
    {
     "name": "stdout",
     "output_type": "stream",
     "text": [
      "      45 csv_airbus\r\n",
      "       0 fichero\r\n",
      "       1 largest_file2.txt\r\n",
      "       1 largest_file.txt\r\n",
      "     458 optd_aircraft.csv\r\n",
      "    1254 optd_airlines.csv\r\n",
      "    9128 optd_por_public2.csv.bz2\r\n",
      "   18190 optd_por_public.csv\r\n",
      "     684 ref_airline_nb_of_flights.csv\r\n",
      "       1 seq\r\n",
      "      10 sql_aircraft.sql\r\n",
      "       1 test.txt\r\n",
      "   29773 total\r\n"
     ]
    }
   ],
   "source": [
    "a=!ls\n",
    "a\n",
    "! wc -l $a.s\n",
    "#OJO, esto es una Slist(Special List) que tiene unos métodos diferentes. En este caso, convierte la a en un 'string'"
   ]
  },
  {
   "cell_type": "code",
   "execution_count": 29,
   "metadata": {},
   "outputs": [
    {
     "name": "stdout",
     "output_type": "stream",
     "text": [
      "En un lugar de la mancha\r\n"
     ]
    }
   ],
   "source": [
    "quijote=\"En un lugar de la mancha\"\n",
    "!echo $quijote"
   ]
  },
  {
   "cell_type": "code",
   "execution_count": 3,
   "metadata": {},
   "outputs": [],
   "source": [
    "!echo {quijote.split()} > text.txt"
   ]
  },
  {
   "cell_type": "code",
   "execution_count": 4,
   "metadata": {},
   "outputs": [
    {
     "name": "stdout",
     "output_type": "stream",
     "text": [
      "total 24\r\n",
      "-rw-rw-r-- 1 dsc dsc 19311 ene  1 12:09 Practicas_20201229.ipynb\r\n",
      "-rw-rw-r-- 1 dsc dsc    32 ene  1 12:10 text.txt\r\n"
     ]
    }
   ],
   "source": [
    "%ls -l"
   ]
  },
  {
   "cell_type": "code",
   "execution_count": 6,
   "metadata": {},
   "outputs": [
    {
     "name": "stdout",
     "output_type": "stream",
     "text": [
      "quijote=\"En un lugar de la mancha\"\n",
      "!echo {quijote}\n",
      "%pwd\n",
      "!echo {quijote.split()} > text.txt\n",
      "%ls -l\n",
      "%history\n",
      "%history\n"
     ]
    }
   ],
   "source": [
    "%history"
   ]
  },
  {
   "cell_type": "code",
   "execution_count": 7,
   "metadata": {},
   "outputs": [
    {
     "name": "stdout",
     "output_type": "stream",
     "text": [
      "quijote\t \n"
     ]
    }
   ],
   "source": [
    "%who"
   ]
  },
  {
   "cell_type": "code",
   "execution_count": 11,
   "metadata": {},
   "outputs": [
    {
     "name": "stdout",
     "output_type": "stream",
     "text": [
      "Variable   Type    Data/Info\n",
      "----------------------------\n",
      "quijote    str     En un lugar de la mancha\n"
     ]
    }
   ],
   "source": [
    "%whos\n",
    "#Información detallada de las variables del notebook"
   ]
  },
  {
   "cell_type": "code",
   "execution_count": 14,
   "metadata": {},
   "outputs": [
    {
     "name": "stdout",
     "output_type": "stream",
     "text": [
      "/home/dsc/Data/opentraveldata\n",
      "total 9880\r\n",
      "-rw-rw-r-- 1 dsc dsc    1581 dic 29 17:31 csv_airbus\r\n",
      "-rw-rw-r-- 1 dsc dsc       0 dic 29 17:27 fichero\r\n",
      "-rw-rw-r-- 1 dsc dsc      59 dic 14 15:23 largest_file2.txt\r\n",
      "-rw-rw-r-- 1 dsc dsc      59 nov 14 11:52 largest_file.txt\r\n",
      "-rw-rw-r-- 1 dsc dsc   18612 abr  2  2018 optd_aircraft.csv\r\n",
      "-rw-rw-r-- 1 dsc dsc  107306 abr  2  2018 optd_airlines.csv\r\n",
      "-rw-rw-r-- 1 dsc dsc 1871775 dic 27 19:47 \u001b[0m\u001b[01;31moptd_por_public2.csv.bz2\u001b[0m\r\n",
      "-rw-rw-r-- 1 dsc dsc 8080005 abr  2  2018 optd_por_public.csv\r\n",
      "-rw-rw-r-- 1 dsc dsc    5816 abr  2  2018 ref_airline_nb_of_flights.csv\r\n",
      "-rw-rw-r-- 1 dsc dsc       2 nov 20 18:35 seq\r\n",
      "-rw-rw-r-- 1 dsc dsc     256 nov 21 09:55 sql_aircraft.sql\r\n",
      "-rw-rw-r-- 1 dsc dsc      32 nov 21 13:48 test.txt\r\n"
     ]
    }
   ],
   "source": [
    "#Quick Exercises 3.1.a\n",
    "\n",
    "%cd ~/Data/opentraveldata/\n",
    "%ls -l"
   ]
  },
  {
   "cell_type": "code",
   "execution_count": 15,
   "metadata": {},
   "outputs": [
    {
     "name": "stdout",
     "output_type": "stream",
     "text": [
      "/home/dsc/Data/us_dot/otp\n",
      "total 29664\r\n",
      "-rw-rw-r-- 1 dsc dsc 30373413 mar 28  2019 \u001b[0m\u001b[01;31mOn_Time_Reporting_Carrier_On_Time_Performance_1987_present_2018_12.zip\u001b[0m\u001b[K\r\n"
     ]
    }
   ],
   "source": [
    "#Quick Exercises 3.1.b\n",
    "\n",
    "%cd ~/Data/us_dot/otp\n",
    "%ls -l"
   ]
  },
  {
   "cell_type": "code",
   "execution_count": 16,
   "metadata": {},
   "outputs": [
    {
     "name": "stdout",
     "output_type": "stream",
     "text": [
      "/home/dsc/Data/us_dot/traffic\n",
      "total 22052\r\n",
      "-rw-rw-r-- 1 dsc dsc 16871101 abr  2  2018 \u001b[0m\u001b[01;31mT100_SEGMENT_ALL_CARRIER_2014.zip\u001b[0m\r\n",
      "-rw-rw-r-- 1 dsc dsc  5709455 abr  2  2018 \u001b[01;31mT100_SEGMENT_ALL_CARRIER_2015.zip\u001b[0m\r\n"
     ]
    }
   ],
   "source": [
    "#Quick Exercises 3.1.c\n",
    "\n",
    "%cd ~/Data/us_dot/traffic/\n",
    "%ls -l"
   ]
  },
  {
   "cell_type": "code",
   "execution_count": 27,
   "metadata": {},
   "outputs": [
    {
     "name": "stdout",
     "output_type": "stream",
     "text": [
      "Directory history (kept in _dh)\n",
      "0: /home/dsc/Repos/Clases_Master/Python/Introduction/Practicas\n",
      "1: /home/dsc/Data/opentraveldata\n",
      "2: /home/dsc/Data/us_dot/otp\n",
      "3: /home/dsc/Data/us_dot/traffic\n",
      "4: /home/dsc/Repos/Clases_Master/Python/Introduction/Practicas\n"
     ]
    }
   ],
   "source": [
    "%dhist"
   ]
  },
  {
   "cell_type": "code",
   "execution_count": 37,
   "metadata": {},
   "outputs": [
    {
     "name": "stdout",
     "output_type": "stream",
     "text": [
      "/home/dsc/Repos/Clases_Master/Python/Introduction/Practicas\n",
      "3\n",
      "/home/dsc/Data/opentraveldata\n",
      "13\n",
      "/home/dsc/Data/us_dot/otp\n",
      "2\n",
      "/home/dsc/Data/us_dot/traffic\n",
      "3\n",
      "/home/dsc/Repos/Clases_Master/Python/Introduction/Practicas\n",
      "3\n"
     ]
    }
   ],
   "source": [
    "#Quick Exercises 3.1.d\n",
    "\n",
    "for name in _dh:\n",
    "    print(name)\n",
    "    %ls -l $name | wc -l"
   ]
  },
  {
   "cell_type": "code",
   "execution_count": 59,
   "metadata": {},
   "outputs": [
    {
     "name": "stdout",
     "output_type": "stream",
     "text": [
      "44\r\n"
     ]
    }
   ],
   "source": [
    "#Quick Exercises 3.2\n",
    "\n",
    "def pattern(file,delimiter):\n",
    "    !grep -i -o $delimiter $file | wc -l\n",
    "\n",
    "pattern(\"/home/dsc/Data/opentraveldata/optd_aircraft.csv\",\"AIrbus\")    \n"
   ]
  },
  {
   "cell_type": "code",
   "execution_count": 61,
   "metadata": {},
   "outputs": [
    {
     "name": "stdout",
     "output_type": "stream",
     "text": [
      "44\n"
     ]
    }
   ],
   "source": [
    "#Quick Exercises 3.2\n",
    "\n",
    "path=\"/home/dsc/Data/opentraveldata/optd_aircraft.csv\"\n",
    "delimiter=\"AIrbus\"\n",
    "\n",
    "def pattern2(path,delimiter):\n",
    "    count=0\n",
    "    with open(path) as f:\n",
    "        lines=f.readlines()\n",
    "        for l in lines:\n",
    "            if l.lower().find(delimiter.lower())!=-1:\n",
    "                count+=1\n",
    "    print(count)\n",
    "\n",
    "pattern2(path,delimiter)\n"
   ]
  },
  {
   "cell_type": "code",
   "execution_count": 93,
   "metadata": {},
   "outputs": [
    {
     "name": "stdout",
     "output_type": "stream",
     "text": [
      "Número de líneas 12363\n"
     ]
    }
   ],
   "source": [
    "#Quick Exercises 3.3\n",
    "\n",
    "old_file=\"/home/dsc/Data/shell/Finn.txt\"\n",
    "new_file=\"/home/dsc/Data/shell/Finn_new.txt\"\n",
    "\n",
    "lista=[]\n",
    "\n",
    "with open(old_file) as handle:\n",
    "    lines=handle.readlines()\n",
    "    for line in lines:\n",
    "        lista.append(line.rstrip())\n",
    "handle.close()\n",
    "\n",
    "with open(new_file,'w') as handle:\n",
    "    for line in lista:\n",
    "        handle.write(line+\"\\n\")\n",
    "handle.close()\n",
    "        \n",
    "print(\"Número de líneas %d\"%(len(lista)))\n",
    "        \n",
    "\n",
    "\n"
   ]
  },
  {
   "cell_type": "code",
   "execution_count": 90,
   "metadata": {},
   "outputs": [],
   "source": [
    "#Quick Exercises 3.4\n",
    "\n",
    "old_file=\"/home/dsc/Data/shell/Finn.txt\"\n",
    "new_file=\"/home/dsc/Data/shell/Finn_new_no_empty_lines.txt\"\n",
    "\n",
    "lista=[]\n",
    "\n",
    "with open(old_file) as handle:\n",
    "    lines=handle.readlines()\n",
    "    for line in lines:\n",
    "        lista.append(line.rstrip())\n",
    "handle.close()\n",
    "        \n",
    "with open(new_file,'w') as handle:\n",
    "    for line in lista:\n",
    "        if line!=\"\":\n",
    "            handle.write(line+\"\\n\")\n",
    "handle.close()\n"
   ]
  },
  {
   "cell_type": "code",
   "execution_count": 89,
   "metadata": {},
   "outputs": [
    {
     "name": "stdout",
     "output_type": "stream",
     "text": [
      "Número de líneas de Finn.txt\n",
      "12363\n",
      "Número de líneas de Finn_new_no_empty_lines.txt\n",
      "9674\n"
     ]
    }
   ],
   "source": [
    "!echo \"Número de líneas de Finn.txt\"\n",
    "%cat /home/dsc/Data/shell/Finn.txt | wc -l\n",
    "\n",
    "!echo \"Número de líneas de Finn_new_no_empty_lines.txt\"\n",
    "%cat /home/dsc/Data/shell/Finn_new_no_empty_lines.txt | wc -l\n"
   ]
  },
  {
   "cell_type": "code",
   "execution_count": 96,
   "metadata": {},
   "outputs": [
    {
     "data": {
      "text/plain": [
       "['bueno', 'hola', 'comida', 'sal']"
      ]
     },
     "execution_count": 96,
     "metadata": {},
     "output_type": "execute_result"
    }
   ],
   "source": [
    "lista=['hola','bueno','comida','sal']\n",
    "sorted(lista,key=lambda x:x.count('a'))"
   ]
  },
  {
   "cell_type": "code",
   "execution_count": 98,
   "metadata": {},
   "outputs": [
    {
     "data": {
      "text/plain": [
       "[1, 4, 9, 16, 25]"
      ]
     },
     "execution_count": 98,
     "metadata": {},
     "output_type": "execute_result"
    }
   ],
   "source": [
    "#Map aplica una función a un conjunto de valores. La mamera de 'pintarlo' es a través de un creador list\n",
    "k=[1,2,3,4,5]\n",
    "list(map(lambda x:x**2,k))"
   ]
  },
  {
   "cell_type": "code",
   "execution_count": 99,
   "metadata": {},
   "outputs": [
    {
     "data": {
      "text/plain": [
       "[1, 4, 9, 16, 25, 36, 49, 64]"
      ]
     },
     "execution_count": 99,
     "metadata": {},
     "output_type": "execute_result"
    }
   ],
   "source": [
    "#Quick Exercises 4.1\n",
    "lista=[1,2,3,4,5,6,7,8]\n",
    "list(map(lambda x:x**2,lista))"
   ]
  },
  {
   "cell_type": "code",
   "execution_count": 133,
   "metadata": {},
   "outputs": [
    {
     "name": "stdout",
     "output_type": "stream",
     "text": [
      "jOrgE\n",
      "sArAI\n",
      "AngElEs\n",
      "jOsE AntOnIO\n"
     ]
    }
   ],
   "source": [
    "#Quick Exercises 4.2\n",
    "vowel=['a','e','i',\"o\",'u']\n",
    "names=[\"jorge\",\"sarai\",\"angeles\",\"jose antonio\"]\n",
    "new_names=[]\n",
    "for i in names:\n",
    "    new_names.append(list(map(lambda x: str.upper(x) if x in vowel else str.lower(x),i)))\n",
    "\n",
    "for j in range(len(new_names)):\n",
    "    print(\"\".join(new_names[j]))"
   ]
  },
  {
   "cell_type": "code",
   "execution_count": 143,
   "metadata": {},
   "outputs": [
    {
     "name": "stdout",
     "output_type": "stream",
     "text": [
      "ahcnam al ed ragul nu ne\n"
     ]
    }
   ],
   "source": [
    "#Quick Exercises 4.3\n",
    "cadena=\"en un lugar de la mancha\"\n",
    "print(cadena[::-1])"
   ]
  }
 ],
 "metadata": {
  "kernelspec": {
   "display_name": "Python 3",
   "language": "python",
   "name": "python3"
  },
  "language_info": {
   "codemirror_mode": {
    "name": "ipython",
    "version": 3
   },
   "file_extension": ".py",
   "mimetype": "text/x-python",
   "name": "python",
   "nbconvert_exporter": "python",
   "pygments_lexer": "ipython3",
   "version": "3.7.1"
  }
 },
 "nbformat": 4,
 "nbformat_minor": 2
}
